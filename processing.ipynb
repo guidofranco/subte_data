{
 "cells": [
  {
   "cell_type": "markdown",
   "metadata": {},
   "source": [
    "## **Practicando PySpark con datos del subte de BA**"
   ]
  },
  {
   "cell_type": "markdown",
   "metadata": {},
   "source": [
    "Este notebook está destinado a procesar datos vinculados a los subtes de la Ciudad de Buenos Aires, específicamente sobre la cantidad de pasajeros por molinete de todas las estaciones de la red de Subte.\n",
    "Los datasets se encuentran disponible [aquí](https://data.buenosaires.gob.ar/dataset/subte-viajes-molinetes)\n",
    "\n",
    "En el sitio [Buenos Aires Data]() se encuentra una gran variedad de datos abiertos."
   ]
  },
  {
   "cell_type": "markdown",
   "metadata": {},
   "source": [
    "### **Entorno de trabajo**\n",
    "Se trabaja de manera local con una imagen de docker que incluye todo lo necesario para trabajar con PySpark\n",
    "\n",
    "Dicha docker image está disponible [aquí](https://hub.docker.com/r/jupyter/pyspark-notebook/)"
   ]
  },
  {
   "cell_type": "markdown",
   "metadata": {},
   "source": [
    "Un vistazo rápido a los datos"
   ]
  },
  {
   "cell_type": "code",
   "execution_count": 1,
   "metadata": {},
   "outputs": [
    {
     "name": "stdout",
     "output_type": "stream",
     "text": [
      "==> molinetes-2014.csv <==\n",
      "﻿FECHA;DESDE;HASTA;LINEA;MOLINETE;ESTACION;PAX_PAGO;PAX_PASES_PAGOS;PAX_FRANQ;PAX_TOTAL\n",
      "2014-04-09;09:15;09:29;B;LINEA_B_FLORIDA_E_TURN02;Florida;7;NA;NA;7\n",
      "\n",
      "==> molinetes-2015.csv <==\n",
      "periodo,fecha,desde,hasta,linea,molinete,estacion,pax_pagos,pax_pases_pagos,pax_franq,total\n",
      "201501,2015-01-01,05:00:00,05:15:00,LINEA_H,LINEA_H_CASEROS_NORTE_TURN01,CASEROS,0.0,0.0,0.0,0.0\n",
      "\n",
      "==> molinetes-2016.csv <==\n",
      "﻿PERIODO;FECHA;DESDE;HASTA;LINEA;MOLINETE;ESTACION;PAX_PAGOS;PAX_PASES_PAGOS;PAX_FRANQ;TOTAL\n",
      "201601;02/01/2016;05:00:00;05:15:00;LINEA_A;LINEA_A_CARABOBO_E_TURN03;CARABOBO;1;0;0;1\n",
      "\n",
      "==> molinetes-2017.csv <==\n",
      "﻿PERIODO;FECHA;DESDE;HASTA;LINEA;MOLINETE;ESTACION;PAX_PAGOS;PAX_PASES_PAGOS;PAX_FRANQ;TOTAL;ID\n",
      "201701;01/01/2017;08:00:00;08:15:00;LINEA_H;LINEA_H_CASEROS_SUR_TURN02;CASEROS;1;0;0;1;1\n",
      "\n",
      "==> molinetes-2018.csv <==\n",
      "fecha,desde,hasta,linea,molinete,estacion,pax_pagos,pax_pases_pagos,pax_franq,total,periodo\n",
      "2018-01-01,08:00:00,08:15:00,LineaA,LineaA_CBarros_S_Turn01,Castro Barros,1.0,0.0,0.0,1.0,201801\n",
      "\n",
      "==> molinetes-2019.csv <==\n",
      "periodo,fecha,desde,hasta,linea,molinete,estacion,pax_pagos,pax_pases_pagos,pax_franq,total\n",
      "201901,2019-01-01,08:00:00,08:15:00,LineaA,LineaA_Lima_N_Turn02,Lima,1.0,0.0,0.0,1.0\n"
     ]
    }
   ],
   "source": [
    "!head -2 molinetes-201*.csv"
   ]
  },
  {
   "cell_type": "markdown",
   "metadata": {},
   "source": [
    "No todos los archivos mantienen la misma estructura. Un grupo tiene el caracter ',' como delimitador, mientras que para el otro es el caracter ';'.\n",
    "\n",
    "El orden de las columnas no es el mismo para todos los archivos. Los valores para el campo *LINEA* no mantiene el mismo formato para todos los arhivos\n",
    "\n",
    "El formato de fecha también difiere entre los archivos"
   ]
  },
  {
   "cell_type": "markdown",
   "metadata": {},
   "source": [
    "### **Hands on**"
   ]
  },
  {
   "cell_type": "code",
   "execution_count": 1,
   "metadata": {},
   "outputs": [],
   "source": [
    "# Para interactuar con una base de datos desde PySpark es necesario disponer del conector JDBC para dicha base de datos\n",
    "PG_JDBC_PATH = \"/home/jovyan/work/postgresql-42.2.12.jar\""
   ]
  },
  {
   "cell_type": "code",
   "execution_count": 2,
   "metadata": {},
   "outputs": [],
   "source": [
    "from pyspark.sql import SparkSession\n",
    "from pyspark.sql import functions as F\n",
    "from pyspark.sql import types as T\n",
    "\n",
    "import pandas as pd\n",
    "\n",
    "import json\n",
    "import os\n",
    "\n",
    "os.environ[\"PYSPARK_SUBMIT_ARGS\"] = f\"--driver-class-path {PG_JDBC_PATH} --jars {PG_JDBC_PATH} pyspark-shell\""
   ]
  },
  {
   "cell_type": "code",
   "execution_count": 3,
   "metadata": {},
   "outputs": [],
   "source": [
    "spark = SparkSession.builder \\\n",
    "                    .master(\"local[*]\") \\\n",
    "                    .appName(\"molinetes\") \\\n",
    "                    .getOrCreate()"
   ]
  },
  {
   "cell_type": "markdown",
   "metadata": {},
   "source": [
    "Primero veamos si hay missing/null values"
   ]
  },
  {
   "cell_type": "code",
   "execution_count": 4,
   "metadata": {},
   "outputs": [],
   "source": [
    "cols_to_select=[\"Fecha\", \"Desde\", \"Hasta\", \"Linea\", \"Estacion\"]"
   ]
  },
  {
   "cell_type": "code",
   "execution_count": 6,
   "metadata": {},
   "outputs": [
    {
     "name": "stdout",
     "output_type": "stream",
     "text": [
      "molinetes-2014.csv\n",
      "Column: Fecha\t Null values: 0\n",
      "Column: Desde\t Null values: 0\n",
      "Column: Hasta\t Null values: 0\n",
      "Column: Linea\t Null values: 0\n",
      "Column: Estacion\t Null values: 0\n",
      "molinetes-2016.csv\n",
      "Column: Fecha\t Null values: 0\n",
      "Column: Desde\t Null values: 0\n",
      "Column: Hasta\t Null values: 0\n",
      "Column: Linea\t Null values: 0\n",
      "Column: Estacion\t Null values: 0\n",
      "molinetes-2017.csv\n",
      "Column: Fecha\t Null values: 0\n",
      "Column: Desde\t Null values: 0\n",
      "Column: Hasta\t Null values: 0\n",
      "Column: Linea\t Null values: 0\n",
      "Column: Estacion\t Null values: 0\n"
     ]
    }
   ],
   "source": [
    "fnames = [f\"molinetes-201{n}.csv\" for n in [4,6,7]]\n",
    "for fname in fnames:\n",
    "    print(fname)\n",
    "    molinetes = spark.read.csv(fname, sep=\";\", header=True, encoding=\"UTF-8\")\n",
    "    molinetes = molinetes.select(*cols_to_select)\n",
    "    for column in molinetes.columns:\n",
    "        nulls_count = molinetes.filter(molinetes[column].isNull()).count()\n",
    "        print(f\"Column: {column}\\t Null values: {nulls_count}\")\n",
    "    \n",
    "    molinetes = None"
   ]
  },
  {
   "cell_type": "code",
   "execution_count": 7,
   "metadata": {},
   "outputs": [
    {
     "name": "stdout",
     "output_type": "stream",
     "text": [
      "molinetes-2015.csv\n",
      "Column: Fecha\t Null values: 0\n",
      "Column: Desde\t Null values: 0\n",
      "Column: Hasta\t Null values: 0\n",
      "Column: Linea\t Null values: 0\n",
      "Column: Estacion\t Null values: 0\n",
      "molinetes-2018.csv\n",
      "Column: Fecha\t Null values: 78207\n",
      "Column: Desde\t Null values: 78207\n",
      "Column: Hasta\t Null values: 78207\n",
      "Column: Linea\t Null values: 78263\n",
      "Column: Estacion\t Null values: 78207\n",
      "molinetes-2019.csv\n",
      "Column: Fecha\t Null values: 0\n",
      "Column: Desde\t Null values: 0\n",
      "Column: Hasta\t Null values: 0\n",
      "Column: Linea\t Null values: 0\n",
      "Column: Estacion\t Null values: 0\n"
     ]
    }
   ],
   "source": [
    "fnames = [f\"molinetes-201{n}.csv\" for n in [5,8,9]]\n",
    "for fname in fnames:\n",
    "    print(fname)\n",
    "    molinetes = spark.read.csv(fname, sep=\",\", header=True, encoding=\"UTF-8\")\n",
    "    molinetes = molinetes.select(*cols_to_select)\n",
    "    for column in molinetes.columns:\n",
    "        nulls_count = molinetes.filter(molinetes[column].isNull()).count()\n",
    "        print(f\"Column: {column}\\t Null values: {nulls_count}\")\n",
    "    \n",
    "\n",
    "    molinetes = None"
   ]
  },
  {
   "cell_type": "markdown",
   "metadata": {},
   "source": [
    "El archivo referente al año 2018 requiere un tratamiento diferente por presentar valores nulos.\n",
    "\n",
    "Primero, trabajaremos con los otros datasets."
   ]
  },
  {
   "cell_type": "code",
   "execution_count": 40,
   "metadata": {},
   "outputs": [],
   "source": [
    "def csv_to_df(filename, separator):\n",
    "    cols_to_select = [\"fecha\", \"desde\", \"linea\", \"estacion\"]\n",
    "    # Omitimos la columna Hasta dado se sabe que los registros se efectuaron cada quince minutos    \n",
    "    \n",
    "    molinetes = spark.read.csv(filename, encoding=\"UTF-8\", header=True, sep=separator)\n",
    "    \n",
    "    # La columna referente al total de pasajeros por molinete tiene nombres diferentes entre los archivos.\n",
    "    # De la siguiente forma logramos obtener el nombre de la columna que hace referencia a dichos totales\n",
    "    total_column = next(filter(lambda s: 'total' in s.lower(), molinetes.columns))\n",
    "    cols_to_select.append(total_column)\n",
    "    molinetes = molinetes.select(*cols_to_select)\n",
    "    molinetes = molinetes.withColumnRenamed(total_column, \"total\")\n",
    "    return molinetes\n",
    "\n",
    "def modify_columns(df):\n",
    "    last_char = F.udf(lambda s: s[-1])\n",
    "    df = df.withColumn(\"linea\", last_char(\"linea\"))\n",
    "    df = df.withColumn(\"estacion\", F.upper(F.col(\"estacion\")))\n",
    "    \n",
    "    df = df.withColumnRenamed(\"desde\", \"hora\")\n",
    "    df = df.withColumn(\"hora\", \\\n",
    "                      F.hour(df[\"hora\"]))\n",
    "\n",
    "    df = df.withColumn(\"total\", F.col(\"total\").cast(\"int\"))\n",
    "    \n",
    "    # Transformar el formato del campo \"Fecha\" a dd/MM/yyyy en caso de ser necesario\n",
    "    df = df.withColumn(\"fecha\", \\\n",
    "                       F.when(F.to_date(\"fecha\").isNotNull(), \\\n",
    "                              F.to_date(\"fecha\")) \\\n",
    "                       .otherwise(F.to_date(\"fecha\", \"dd/MM/yyyy\")))\n",
    "\n",
    "    return df\n",
    "\n",
    "def sort_and_group(df):\n",
    "    cols = [\"fecha\", \"hora\", \"linea\", \"estacion\"]\n",
    "    df = df.orderBy(cols) \\\n",
    "            .groupBy(cols).agg(F.sum(\"total\").alias(\"total\"))\n",
    "    return df"
   ]
  },
  {
   "cell_type": "code",
   "execution_count": null,
   "metadata": {},
   "outputs": [],
   "source": [
    "fnames = (f\"molinetes-201{n}.csv\" for n in [4,6,7])\n",
    "for fname in fnames:\n",
    "    print(fname, end=\"\\t\")\n",
    "    molinetes = csv_to_df(fname, ';')\n",
    "    molinetes = modify_columns(molinetes)\n",
    "    molinetes = sort_and_group(molinetes)\n",
    "    molinetes.write.saveAsTable(\"molinetes\", mode=\"append\")\n",
    "    print(\"saved\")\n",
    "    molinetes = None"
   ]
  },
  {
   "cell_type": "code",
   "execution_count": null,
   "metadata": {},
   "outputs": [],
   "source": [
    "fnames = (f\"molinetes-201{n}.csv\" for n in [5, 9])\n",
    "for fname in fnames:\n",
    "    print(fname, end=\"\\t\")\n",
    "    molinetes = csv_to_df(fname, ',')\n",
    "    molinetes = modify_columns(molinetes)\n",
    "    molinetes = sort_and_group(molinetes)\n",
    "    molinetes.write.saveAsTable(\"molinetes\", mode=\"append\")\n",
    "    print(\"saved\")\n",
    "    molinetes = None"
   ]
  },
  {
   "cell_type": "markdown",
   "metadata": {},
   "source": [
    "Ahora vamos a tratar los valores nulos del archivo *molinetes-18.csv*.\n",
    "\n",
    "Cargamos el archivo en un dataframe, contamos los valores nulos y luego realizamos las transformaciones correspondientes."
   ]
  },
  {
   "cell_type": "code",
   "execution_count": 17,
   "metadata": {},
   "outputs": [
    {
     "name": "stdout",
     "output_type": "stream",
     "text": [
      "+----------+--------+------+-------------+-----+\n",
      "|     fecha|   desde| linea|     estacion|total|\n",
      "+----------+--------+------+-------------+-----+\n",
      "|2018-01-01|08:00:00|LineaA|Castro Barros|  1.0|\n",
      "|2018-01-01|08:00:00|LineaA|         Lima|  4.0|\n",
      "|2018-01-01|08:00:00|LineaA|        Pasco|  1.0|\n",
      "+----------+--------+------+-------------+-----+\n",
      "only showing top 3 rows\n",
      "\n"
     ]
    }
   ],
   "source": [
    "molinetes18 = csv_to_df(\"molinetes-2018.csv\", ',')\n",
    "molinetes18.show(3)"
   ]
  },
  {
   "cell_type": "code",
   "execution_count": 18,
   "metadata": {},
   "outputs": [],
   "source": [
    "molinetes18 = molinetes18.dropna(subset=[\"Linea\"])"
   ]
  },
  {
   "cell_type": "code",
   "execution_count": 19,
   "metadata": {},
   "outputs": [
    {
     "name": "stdout",
     "output_type": "stream",
     "text": [
      "Column: fecha\t Nulls values: 0\n",
      "Column: desde\t Nulls values: 0\n",
      "Column: linea\t Nulls values: 0\n",
      "Column: estacion\t Nulls values: 0\n",
      "Column: total\t Nulls values: 0\n"
     ]
    }
   ],
   "source": [
    "for column in molinetes18.columns:\n",
    "    nulls_count = molinetes18.filter(molinetes18[column].isNull()).count()\n",
    "    print(f\"Column: {column}\\t Nulls values: {nulls_count}\")"
   ]
  },
  {
   "cell_type": "markdown",
   "metadata": {},
   "source": [
    "Los valores nulos fueron eliminados y ya podemos proceder a cargar este dataframe en una tabla."
   ]
  },
  {
   "cell_type": "code",
   "execution_count": 20,
   "metadata": {},
   "outputs": [],
   "source": [
    "molinetes18 = modify_columns(molinetes18)\n",
    "molinetes18 = sort_and_group(molinetes18)"
   ]
  },
  {
   "cell_type": "code",
   "execution_count": 21,
   "metadata": {},
   "outputs": [
    {
     "name": "stdout",
     "output_type": "stream",
     "text": [
      "+----------+----+-----+-------------+-----+\n",
      "|     fecha|hora|linea|     estacion|total|\n",
      "+----------+----+-----+-------------+-----+\n",
      "|2018-01-01|   8|    A|       ACOYTE|   27|\n",
      "|2018-01-01|   8|    A|      ALBERTI|    9|\n",
      "|2018-01-01|   8|    A|     CARABOBO|   38|\n",
      "|2018-01-01|   8|    A|CASTRO BARROS|   33|\n",
      "|2018-01-01|   8|    A|     CONGRESO|   36|\n",
      "+----------+----+-----+-------------+-----+\n",
      "only showing top 5 rows\n",
      "\n"
     ]
    }
   ],
   "source": [
    "molinetes18.show(5)"
   ]
  },
  {
   "cell_type": "code",
   "execution_count": 22,
   "metadata": {},
   "outputs": [],
   "source": [
    "molinetes18.write.saveAsTable(\"molinetes\", mode=\"append\")"
   ]
  },
  {
   "cell_type": "markdown",
   "metadata": {},
   "source": [
    "### **Mas modificiones**"
   ]
  },
  {
   "cell_type": "markdown",
   "metadata": {},
   "source": [
    "Haremos unas modificaciones sobre los valores del campo 'estacion'.\n",
    "\n",
    "Contamos con un dataset de todas las estaciones de subte de CABA."
   ]
  },
  {
   "cell_type": "code",
   "execution_count": 6,
   "metadata": {},
   "outputs": [
    {
     "data": {
      "text/html": [
       "<div>\n",
       "<style scoped>\n",
       "    .dataframe tbody tr th:only-of-type {\n",
       "        vertical-align: middle;\n",
       "    }\n",
       "\n",
       "    .dataframe tbody tr th {\n",
       "        vertical-align: top;\n",
       "    }\n",
       "\n",
       "    .dataframe thead th {\n",
       "        text-align: right;\n",
       "    }\n",
       "</style>\n",
       "<table border=\"1\" class=\"dataframe\">\n",
       "  <thead>\n",
       "    <tr style=\"text-align: right;\">\n",
       "      <th></th>\n",
       "      <th>long</th>\n",
       "      <th>lat</th>\n",
       "      <th>id</th>\n",
       "      <th>estacion</th>\n",
       "      <th>linea</th>\n",
       "    </tr>\n",
       "  </thead>\n",
       "  <tbody>\n",
       "    <tr>\n",
       "      <th>0</th>\n",
       "      <td>-58.398928</td>\n",
       "      <td>-34.635750</td>\n",
       "      <td>1.0</td>\n",
       "      <td>CASEROS</td>\n",
       "      <td>H</td>\n",
       "    </tr>\n",
       "    <tr>\n",
       "      <th>1</th>\n",
       "      <td>-58.400970</td>\n",
       "      <td>-34.629376</td>\n",
       "      <td>2.0</td>\n",
       "      <td>INCLAN - MEZQUITA AL AHMAD</td>\n",
       "      <td>H</td>\n",
       "    </tr>\n",
       "    <tr>\n",
       "      <th>2</th>\n",
       "      <td>-58.402323</td>\n",
       "      <td>-34.623092</td>\n",
       "      <td>3.0</td>\n",
       "      <td>HUMBERTO 1°</td>\n",
       "      <td>H</td>\n",
       "    </tr>\n",
       "    <tr>\n",
       "      <th>3</th>\n",
       "      <td>-58.404732</td>\n",
       "      <td>-34.615242</td>\n",
       "      <td>4.0</td>\n",
       "      <td>VENEZUELA</td>\n",
       "      <td>H</td>\n",
       "    </tr>\n",
       "    <tr>\n",
       "      <th>4</th>\n",
       "      <td>-58.406036</td>\n",
       "      <td>-34.608935</td>\n",
       "      <td>5.0</td>\n",
       "      <td>ONCE - 30 DE DICIEMBRE</td>\n",
       "      <td>H</td>\n",
       "    </tr>\n",
       "    <tr>\n",
       "      <th>...</th>\n",
       "      <td>...</td>\n",
       "      <td>...</td>\n",
       "      <td>...</td>\n",
       "      <td>...</td>\n",
       "      <td>...</td>\n",
       "    </tr>\n",
       "    <tr>\n",
       "      <th>85</th>\n",
       "      <td>-58.402376</td>\n",
       "      <td>-34.594525</td>\n",
       "      <td>86.0</td>\n",
       "      <td>SANTA FE - CARLOS JAUREGUI</td>\n",
       "      <td>H</td>\n",
       "    </tr>\n",
       "    <tr>\n",
       "      <th>86</th>\n",
       "      <td>-58.391019</td>\n",
       "      <td>-34.583036</td>\n",
       "      <td>87.0</td>\n",
       "      <td>FACULTAD DE DERECHO - JULIETA LANTERI</td>\n",
       "      <td>H</td>\n",
       "    </tr>\n",
       "    <tr>\n",
       "      <th>87</th>\n",
       "      <td>-58.375850</td>\n",
       "      <td>-34.592114</td>\n",
       "      <td>90.0</td>\n",
       "      <td>RETIRO</td>\n",
       "      <td>E</td>\n",
       "    </tr>\n",
       "    <tr>\n",
       "      <th>88</th>\n",
       "      <td>-58.371700</td>\n",
       "      <td>-34.596597</td>\n",
       "      <td>89.0</td>\n",
       "      <td>CATALINAS</td>\n",
       "      <td>E</td>\n",
       "    </tr>\n",
       "    <tr>\n",
       "      <th>89</th>\n",
       "      <td>-58.370413</td>\n",
       "      <td>-34.603014</td>\n",
       "      <td>88.0</td>\n",
       "      <td>CORREO CENTRAL</td>\n",
       "      <td>E</td>\n",
       "    </tr>\n",
       "  </tbody>\n",
       "</table>\n",
       "<p>90 rows × 5 columns</p>\n",
       "</div>"
      ],
      "text/plain": [
       "         long        lat    id                               estacion linea\n",
       "0  -58.398928 -34.635750   1.0                                CASEROS     H\n",
       "1  -58.400970 -34.629376   2.0             INCLAN - MEZQUITA AL AHMAD     H\n",
       "2  -58.402323 -34.623092   3.0                            HUMBERTO 1°     H\n",
       "3  -58.404732 -34.615242   4.0                              VENEZUELA     H\n",
       "4  -58.406036 -34.608935   5.0                 ONCE - 30 DE DICIEMBRE     H\n",
       "..        ...        ...   ...                                    ...   ...\n",
       "85 -58.402376 -34.594525  86.0             SANTA FE - CARLOS JAUREGUI     H\n",
       "86 -58.391019 -34.583036  87.0  FACULTAD DE DERECHO - JULIETA LANTERI     H\n",
       "87 -58.375850 -34.592114  90.0                                 RETIRO     E\n",
       "88 -58.371700 -34.596597  89.0                              CATALINAS     E\n",
       "89 -58.370413 -34.603014  88.0                         CORREO CENTRAL     E\n",
       "\n",
       "[90 rows x 5 columns]"
      ]
     },
     "execution_count": 6,
     "metadata": {},
     "output_type": "execute_result"
    }
   ],
   "source": [
    "stations_data = pd.read_csv(\"estaciones-de-subte.csv\")\n",
    "stations_data"
   ]
  },
  {
   "cell_type": "code",
   "execution_count": 25,
   "metadata": {},
   "outputs": [
    {
     "data": {
      "text/html": [
       "<div>\n",
       "<style scoped>\n",
       "    .dataframe tbody tr th:only-of-type {\n",
       "        vertical-align: middle;\n",
       "    }\n",
       "\n",
       "    .dataframe tbody tr th {\n",
       "        vertical-align: top;\n",
       "    }\n",
       "\n",
       "    .dataframe thead th {\n",
       "        text-align: right;\n",
       "    }\n",
       "</style>\n",
       "<table border=\"1\" class=\"dataframe\">\n",
       "  <thead>\n",
       "    <tr style=\"text-align: right;\">\n",
       "      <th></th>\n",
       "      <th>estacion</th>\n",
       "    </tr>\n",
       "  </thead>\n",
       "  <tbody>\n",
       "    <tr>\n",
       "      <th>0</th>\n",
       "      <td>CORRIENTES</td>\n",
       "    </tr>\n",
       "    <tr>\n",
       "      <th>1</th>\n",
       "      <td>AGÃ¼ERO</td>\n",
       "    </tr>\n",
       "    <tr>\n",
       "      <th>2</th>\n",
       "      <td>RIO DE JANEIRO</td>\n",
       "    </tr>\n",
       "    <tr>\n",
       "      <th>3</th>\n",
       "      <td>LORIA</td>\n",
       "    </tr>\n",
       "    <tr>\n",
       "      <th>4</th>\n",
       "      <td>JOSE HERNANDEZ</td>\n",
       "    </tr>\n",
       "    <tr>\n",
       "      <th>...</th>\n",
       "      <td>...</td>\n",
       "    </tr>\n",
       "    <tr>\n",
       "      <th>95</th>\n",
       "      <td>VENEZUELA</td>\n",
       "    </tr>\n",
       "    <tr>\n",
       "      <th>96</th>\n",
       "      <td>CASTRO BARROS</td>\n",
       "    </tr>\n",
       "    <tr>\n",
       "      <th>97</th>\n",
       "      <td>AGÃÂ¼ERO</td>\n",
       "    </tr>\n",
       "    <tr>\n",
       "      <th>98</th>\n",
       "      <td>PERU</td>\n",
       "    </tr>\n",
       "    <tr>\n",
       "      <th>99</th>\n",
       "      <td>SAN JOSE</td>\n",
       "    </tr>\n",
       "  </tbody>\n",
       "</table>\n",
       "<p>100 rows × 1 columns</p>\n",
       "</div>"
      ],
      "text/plain": [
       "          estacion\n",
       "0       CORRIENTES\n",
       "1          AGÃ¼ERO\n",
       "2   RIO DE JANEIRO\n",
       "3            LORIA\n",
       "4   JOSE HERNANDEZ\n",
       "..             ...\n",
       "95       VENEZUELA\n",
       "96   CASTRO BARROS\n",
       "97       AGÃÂ¼ERO\n",
       "98            PERU\n",
       "99        SAN JOSE\n",
       "\n",
       "[100 rows x 1 columns]"
      ]
     },
     "execution_count": 25,
     "metadata": {},
     "output_type": "execute_result"
    }
   ],
   "source": [
    "molinetes = spark.table(\"molinetes\")\n",
    "stations_name = molinetes.select(\"estacion\")\n",
    "stations_name = stations_name.distinct().toPandas()\n",
    "stations_name"
   ]
  },
  {
   "cell_type": "markdown",
   "metadata": {},
   "source": [
    "Nótese que el dataset de estaciones contiene 90 filas, es decir existen 90 estaciones diferentes. Mientras que al consultar las estaciones diferentes del dataset de molinetes, obtenemos 100 filas.\n",
    "\n",
    "Habrá que hacer modificacione sobre los nombres de las estaciones\n",
    "\n",
    "Primero, veamos las diferencias"
   ]
  },
  {
   "cell_type": "code",
   "execution_count": 8,
   "metadata": {},
   "outputs": [
    {
     "data": {
      "text/plain": [
       "['AGÃ¼ERO',\n",
       " 'TRONADOR',\n",
       " 'FLORES',\n",
       " 'INCLAN',\n",
       " 'PLAZA MISERERE',\n",
       " 'ONCE',\n",
       " 'HUMBERTO I',\n",
       " 'CALLAO.B',\n",
       " 'MALABIA',\n",
       " 'GENERAL SAN MARTIN',\n",
       " 'INDEPENDENCIA.H',\n",
       " 'PUEYRREDON.D',\n",
       " 'SAENZ PEÃ±A ',\n",
       " 'ECHEVERRIA',\n",
       " 'PATRICIOS',\n",
       " 'FACULTAD DE DERECHO',\n",
       " 'PUEYRREDON.',\n",
       " 'GENERAL BELGRANO',\n",
       " 'RETIRO E',\n",
       " 'SAENZ PEÃ\\x83Â±A ',\n",
       " 'CALLAO.',\n",
       " 'TALLER BONIFACIO',\n",
       " 'PASTEUR',\n",
       " 'ENTRE RIOS',\n",
       " 'MEDRANO',\n",
       " 'TRIBUNALES',\n",
       " 'AGUERO',\n",
       " 'ROSAS',\n",
       " 'SANTA FE',\n",
       " 'MINISTRO CARRANZA',\n",
       " 'SAENZ PEÑA ',\n",
       " 'LOS INCAS',\n",
       " 'MARIANO MORENO',\n",
       " 'CARLOS PELLEGRINI',\n",
       " 'AVENIDA DE MAYO',\n",
       " 'SCALABRINI ORTIZ',\n",
       " 'CONGRESO',\n",
       " 'PZA. DE LOS VIRREYES',\n",
       " 'AVENIDA LA PLATA',\n",
       " 'INDEPENDENCIA.',\n",
       " 'CORDOBA',\n",
       " 'AGÃ\\x83Â¼ERO']"
      ]
     },
     "execution_count": 8,
     "metadata": {},
     "output_type": "execute_result"
    }
   ],
   "source": [
    "list(filter(lambda x: x not in list(stations_data.estacion), \\\n",
    "           list(stations_name.estacion)))"
   ]
  },
  {
   "cell_type": "markdown",
   "metadata": {},
   "source": [
    "Para ello, preparé un archivo json, *replacements.json*, donde cada par *(clave, valor)* representa *(valor_actual, valor_nuevo)*"
   ]
  },
  {
   "cell_type": "code",
   "execution_count": 9,
   "metadata": {},
   "outputs": [],
   "source": [
    "with open(\"replacements.json\", \"r\") as json_file:\n",
    "    replacements = json.load(json_file)\n",
    "\n",
    "molinetes = molinetes.replace(replacements, subset=[\"estacion\"])"
   ]
  },
  {
   "cell_type": "markdown",
   "metadata": {},
   "source": [
    "Luego hay unos inconvenientes con las estaciones *Agüero* y *Saenz peña* con respecto a los caracteres ü y ñ.\n",
    "\n",
    "Se puede solucionar de la siguiente forma"
   ]
  },
  {
   "cell_type": "code",
   "execution_count": 10,
   "metadata": {},
   "outputs": [
    {
     "name": "stdout",
     "output_type": "stream",
     "text": [
      "['SAENZ PEÑA', 'SAENZ PEÃ±A ', 'SAENZ PEÃ\\x83Â±A ', 'SAENZ PEÑA ']\n"
     ]
    }
   ],
   "source": [
    "names_list = list(filter(lambda x: x.startswith(\"SAENZ\"), \\\n",
    "            list(stations_name.estacion)))\n",
    "print(names_list)\n",
    "molinetes = molinetes.replace(names_list, value=\"SAENZ PEÑA\", subset=\"estacion\")"
   ]
  },
  {
   "cell_type": "code",
   "execution_count": 11,
   "metadata": {},
   "outputs": [
    {
     "name": "stdout",
     "output_type": "stream",
     "text": [
      "['AGÃ¼ERO', 'AGÜERO', 'AGUERO', 'AGÃ\\x83Â¼ERO']\n"
     ]
    }
   ],
   "source": [
    "names_list = list(filter(lambda x: x.endswith(\"ERO\"), \\\n",
    "                        list(stations_name.estacion)))\n",
    "print(names_list)\n",
    "molinetes = molinetes.replace(names_list, value=\"AGÜERO\", subset=\"estacion\")"
   ]
  },
  {
   "cell_type": "markdown",
   "metadata": {},
   "source": [
    "Así verificamos si las modificaciones tuvieron los resultados esperados"
   ]
  },
  {
   "cell_type": "code",
   "execution_count": 12,
   "metadata": {},
   "outputs": [
    {
     "data": {
      "text/plain": [
       "['TALLER BONIFACIO']"
      ]
     },
     "execution_count": 12,
     "metadata": {},
     "output_type": "execute_result"
    }
   ],
   "source": [
    "stations_name = molinetes.select(\"estacion\").distinct().toPandas()\n",
    "list(filter(lambda x: x not in list(stations_data.estacion), \\\n",
    "           list(stations_name.estacion)))"
   ]
  },
  {
   "cell_type": "markdown",
   "metadata": {},
   "source": [
    "Esta estación, *Taller Bonifacio*, no existe realmente, al consultar vemos que está asociada con la línea de subte *S*, que tampoco existe. Además no hay registros de pasajeros para esta estación así que luego será descartada"
   ]
  },
  {
   "cell_type": "code",
   "execution_count": 50,
   "metadata": {},
   "outputs": [
    {
     "name": "stdout",
     "output_type": "stream",
     "text": [
      "+----------+----+-----+----------------+-----+\n",
      "|     fecha|hora|linea|        estacion|total|\n",
      "+----------+----+-----+----------------+-----+\n",
      "|2016-04-20|  14|    S|TALLER BONIFACIO|    0|\n",
      "|2016-04-19|  13|    S|TALLER BONIFACIO|    0|\n",
      "|2016-04-19|  14|    S|TALLER BONIFACIO|    0|\n",
      "|2016-04-19|  15|    S|TALLER BONIFACIO|    0|\n",
      "|2016-04-19|  16|    S|TALLER BONIFACIO|    0|\n",
      "|2016-04-07|  19|    S|TALLER BONIFACIO|    0|\n",
      "|2016-04-11|  12|    S|TALLER BONIFACIO|    0|\n",
      "|2016-04-11|  13|    S|TALLER BONIFACIO|    0|\n",
      "|2016-04-11|  14|    S|TALLER BONIFACIO|    0|\n",
      "+----------+----+-----+----------------+-----+\n",
      "\n",
      "+-----+\n",
      "|linea|\n",
      "+-----+\n",
      "|    S|\n",
      "+-----+\n",
      "\n",
      "+----------+\n",
      "|sum(total)|\n",
      "+----------+\n",
      "|         0|\n",
      "+----------+\n",
      "\n"
     ]
    }
   ],
   "source": [
    "_ = molinetes.filter('estacion = \"TALLER BONIFACIO\"')\n",
    "_.show()\n",
    "_.select('linea').distinct().show()\n",
    "_.select(F.sum(\"total\")).show()"
   ]
  },
  {
   "cell_type": "code",
   "execution_count": 13,
   "metadata": {},
   "outputs": [],
   "source": [
    "molinetes.write.saveAsTable(\"pases\", mode=\"overwrite\")"
   ]
  },
  {
   "cell_type": "markdown",
   "metadata": {},
   "source": [
    "### **Carga a una base de datos**"
   ]
  },
  {
   "cell_type": "markdown",
   "metadata": {},
   "source": [
    "Ya finalizado el procesamiento y con los datos cargados en una tabla provisoria, procedemos a cargar toda la data en un base de datos en postgresql."
   ]
  },
  {
   "cell_type": "code",
   "execution_count": 14,
   "metadata": {},
   "outputs": [
    {
     "name": "stdout",
     "output_type": "stream",
     "text": [
      "+----------+----+-----+--------------------+-----+\n",
      "|     fecha|hora|linea|            estacion|total|\n",
      "+----------+----+-----+--------------------+-----+\n",
      "|2019-10-14|  21|    A|      RIO DE JANEIRO|  157|\n",
      "|2019-10-14|  21|    A|          SAENZ PEÑA|   87|\n",
      "|2019-10-14|  21|    A|         SAN PEDRITO|  189|\n",
      "|2019-10-14|  21|    B|      ANGEL GALLARDO|  204|\n",
      "|2019-10-14|  21|    B|CALLAO - MAESTRO ...|  281|\n",
      "|2019-10-14|  21|    B|       CARLOS GARDEL|  838|\n",
      "|2019-10-14|  21|    B|       C. PELLEGRINI|  704|\n",
      "|2019-10-14|  21|    B|             DORREGO|  136|\n",
      "|2019-10-14|  21|    B|          ECHEVERRÍA|   51|\n",
      "|2019-10-14|  21|    B|    FEDERICO LACROZE|  338|\n",
      "+----------+----+-----+--------------------+-----+\n",
      "only showing top 10 rows\n",
      "\n"
     ]
    }
   ],
   "source": [
    "molinetes = spark.table(\"pases\")\n",
    "molinetes.show(10)"
   ]
  },
  {
   "cell_type": "code",
   "execution_count": 5,
   "metadata": {},
   "outputs": [
    {
     "name": "stdout",
     "output_type": "stream",
     "text": [
      "+----------+----+-----+----------------+-----+\n",
      "|     fecha|hora|linea|        estacion|total|\n",
      "+----------+----+-----+----------------+-----+\n",
      "|2014-01-02|   0|    C|    CONSTITUCION|    4|\n",
      "|2014-01-02|   4|    B|FEDERICO LACROZE|    5|\n",
      "|2014-01-02|   4|    A|            PUAN|    1|\n",
      "|2014-01-02|   4|    A|         ALBERTI|    1|\n",
      "|2014-01-02|   4|    A|  RIO DE JANEIRO|    1|\n",
      "+----------+----+-----+----------------+-----+\n",
      "only showing top 5 rows\n",
      "\n"
     ]
    }
   ],
   "source": [
    "molinetes = molinetes.orderBy('fecha', 'hora')\n",
    "molinetes.show(5)"
   ]
  },
  {
   "cell_type": "code",
   "execution_count": 10,
   "metadata": {},
   "outputs": [],
   "source": [
    "connection_string = \"jdbc:postgresql://127.0.0.1/subte\"\n",
    "tablename = \"public.molinetes\"\n",
    "connection_details = {\n",
    "    \"user\": \"<user>\",\n",
    "    \"password\": \"<pswd>\",\n",
    "}"
   ]
  },
  {
   "cell_type": "code",
   "execution_count": 11,
   "metadata": {},
   "outputs": [],
   "source": [
    "molinetes.write \\\n",
    ".option(\"driver\", \"org.postgresql.Driver\") \\\n",
    ".option(\"batchsize\", 100000) \\\n",
    ".jdbc(connection_string, tablename, mode=\"append\", properties=connection_details)"
   ]
  },
  {
   "cell_type": "markdown",
   "metadata": {},
   "source": [
    "Finalmente, los datos han sido cargados a una db. Asi resultan mas accesibles para crear algún dashboard de visualización y realizar un análisis mas en profundidad"
   ]
  }
 ],
 "metadata": {
  "kernelspec": {
   "display_name": "Python 3",
   "language": "python",
   "name": "python3"
  },
  "language_info": {
   "codemirror_mode": {
    "name": "ipython",
    "version": 3
   },
   "file_extension": ".py",
   "mimetype": "text/x-python",
   "name": "python",
   "nbconvert_exporter": "python",
   "pygments_lexer": "ipython3",
   "version": "3.7.6"
  }
 },
 "nbformat": 4,
 "nbformat_minor": 4
}
